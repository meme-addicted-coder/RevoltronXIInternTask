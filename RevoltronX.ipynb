{
  "nbformat": 4,
  "nbformat_minor": 0,
  "metadata": {
    "colab": {
      "provenance": []
    },
    "kernelspec": {
      "name": "python3",
      "display_name": "Python 3"
    },
    "language_info": {
      "name": "python"
    }
  },
  "cells": [
    {
      "cell_type": "markdown",
      "source": [
        "DATASET:https://www.kaggle.com/datasets/everydaycodings/global-news-dataset?resource=download is loaded. I have used the raw-data.csv."
      ],
      "metadata": {
        "id": "uhoW7aXYY1uq"
      }
    },
    {
      "cell_type": "code",
      "execution_count": 3,
      "metadata": {
        "colab": {
          "base_uri": "https://localhost:8080/"
        },
        "id": "KcwvrSgEB4Hc",
        "outputId": "53ce210b-e659-48b7-91ba-2a248dfc7ddd"
      },
      "outputs": [
        {
          "output_type": "stream",
          "name": "stdout",
          "text": [
            "Drive already mounted at /content/drive/; to attempt to forcibly remount, call drive.mount(\"/content/drive/\", force_remount=True).\n"
          ]
        }
      ],
      "source": [
        "# prompt: mount google drive\n",
        "\n",
        "from google.colab import drive\n",
        "drive.mount('/content/drive/')\n"
      ]
    },
    {
      "cell_type": "code",
      "source": [
        "import pandas as pd\n",
        "data = pd.read_csv('/content/drive/MyDrive/raw-data.csv')"
      ],
      "metadata": {
        "colab": {
          "base_uri": "https://localhost:8080/"
        },
        "id": "MrFnuuD3Ceoj",
        "outputId": "e7a5acc3-109b-4c86-da13-70081b260649"
      },
      "execution_count": 4,
      "outputs": [
        {
          "output_type": "stream",
          "name": "stderr",
          "text": [
            "<ipython-input-4-35ed9bf79e0c>:2: DtypeWarning: Columns (1,2,3,4,5,6,7,8,9,10) have mixed types. Specify dtype option on import or set low_memory=False.\n",
            "  data = pd.read_csv('/content/drive/MyDrive/raw-data.csv')\n"
          ]
        }
      ]
    },
    {
      "cell_type": "markdown",
      "source": [
        "#TASKS\n",
        "#1. Data Exploration:\n",
        "   - Familiarize yourself with the structure and content of the dataset.\n",
        "   - Understand the variables/columns present in the dataset and their significance.\n",
        "   - Explore the distribution of different categories of financial news articles.\n"
      ],
      "metadata": {
        "id": "AjKM6maWZP1a"
      }
    },
    {
      "cell_type": "code",
      "source": [
        "print(data.head()) #contents"
      ],
      "metadata": {
        "colab": {
          "base_uri": "https://localhost:8080/"
        },
        "id": "zqOUNuC8CelF",
        "outputId": "78faf7e2-8a39-43fb-f9c2-06355ef805b8"
      },
      "execution_count": 6,
      "outputs": [
        {
          "output_type": "stream",
          "name": "stdout",
          "text": [
            "  article_id source_id     source_name  \\\n",
            "0     594424       NaN          Forbes   \n",
            "1     594425       NaN          Forbes   \n",
            "2     594426       NaN          Forbes   \n",
            "3     594427       NaN  Slickdeals.net   \n",
            "4     594428       NaN        STERN.de   \n",
            "\n",
            "                                              author  \\\n",
            "0  Gemma Allen, Contributor, \\n Gemma Allen, Cont...   \n",
            "1  Forbes Vetted Paid Program With Wayfair, Contr...   \n",
            "2  Kari Molvar, Forbes Staff, \\n Kari Molvar, For...   \n",
            "3                                       RobloxAspect   \n",
            "4                                           STERN.de   \n",
            "\n",
            "                                               title  \\\n",
            "0  A Twist For Adam Neumann, Sam Altman, And The ...   \n",
            "1  21 Best Wayfair Deals To Shop During Black Fri...   \n",
            "2  The Best Black Friday Jacket Deals To Stay War...   \n",
            "3  CyberPowerPC - Gamer Supreme Gaming Desktop - ...   \n",
            "4  Tod von John F. Kennedy: Das sind die wildeste...   \n",
            "\n",
            "                                         description  \\\n",
            "0  Adam Neumann the ousted WeWork CEO was again p...   \n",
            "1  Wayfair's huge Black Friday event has discount...   \n",
            "2  Here are the best Black Friday jacket deals to...   \n",
            "3  *Specs:* \\n* AMD Ryzen 9 7900X \\n* NVIDIA GeFo...   \n",
            "4  Der Mord an John F. Kennedy rief zahlreiche Ve...   \n",
            "\n",
            "                                                 url  \\\n",
            "0  https://www.forbes.com/sites/gemmaallen/2023/1...   \n",
            "1  https://www.forbes.com/sites/forbes-personal-s...   \n",
            "2  https://www.forbes.com/sites/forbes-personal-s...   \n",
            "3  https://slickdeals.net/f/17086387-cyberpowerpc...   \n",
            "4  https://www.stern.de/lifestyle/leute/tod-von-j...   \n",
            "\n",
            "                                        url_to_image  \\\n",
            "0  https://imageio.forbes.com/specials-images/ima...   \n",
            "1  https://imageio.forbes.com/specials-images/ima...   \n",
            "2  https://imageio.forbes.com/specials-images/ima...   \n",
            "3  https://static.slickdealscdn.com/attachment/2/...   \n",
            "4  https://image.stern.de/34219868/t/YJ/v1/w1440/...   \n",
            "\n",
            "                 published_at  \\\n",
            "0  2023-11-21 05:11:36.000000   \n",
            "1  2023-11-21 14:55:48.000000   \n",
            "2  2023-11-21 15:39:27.000000   \n",
            "3  2023-11-21 14:46:46.000000   \n",
            "4  2023-11-21 16:59:00.000000   \n",
            "\n",
            "                                             content category  \n",
            "0  LOS ANGELES, CA - JANUARY 09: Adam Neumann spe...    Stock  \n",
            "1  This article was created in partnership with W...    Stock  \n",
            "2  Temperatures are starting to plummet, which me...    Stock  \n",
            "3  The dead Dell Aurora deal was a hit partly due...    Stock  \n",
            "4  Der Mord an John F. Kennedy rief zahlreiche Ve...    Stock  \n"
          ]
        }
      ]
    },
    {
      "cell_type": "code",
      "source": [
        "print(\"List of Columns:\")  #all colums\n",
        "print(data.columns.tolist())"
      ],
      "metadata": {
        "colab": {
          "base_uri": "https://localhost:8080/"
        },
        "id": "pMp9grmbCeiO",
        "outputId": "eea728a8-65d0-41e0-9dbe-82404fe23583"
      },
      "execution_count": 7,
      "outputs": [
        {
          "output_type": "stream",
          "name": "stdout",
          "text": [
            "List of Columns:\n",
            "['article_id', 'source_id', 'source_name', 'author', 'title', 'description', 'url', 'url_to_image', 'published_at', 'content', 'category']\n"
          ]
        }
      ]
    },
    {
      "cell_type": "code",
      "source": [
        "print(data.tail())"
      ],
      "metadata": {
        "colab": {
          "base_uri": "https://localhost:8080/"
        },
        "id": "H5-9ZHLeZ-mr",
        "outputId": "6e6b8dce-a733-4375-dbe5-cab6a1d302c6"
      },
      "execution_count": 8,
      "outputs": [
        {
          "output_type": "stream",
          "name": "stdout",
          "text": [
            "       article_id source_id      source_name  \\\n",
            "933252     594419       NaN   ETF Daily News   \n",
            "933253     594420       NaN   ETF Daily News   \n",
            "933254     594421       NaN        New Atlas   \n",
            "933255     594422       NaN              CNA   \n",
            "933256     594423       NaN  Dutchcowboys.nl   \n",
            "\n",
            "                                  author  \\\n",
            "933252                   MarketBeat News   \n",
            "933253                   MarketBeat News   \n",
            "933254                         Loz Blain   \n",
            "933255                               NaN   \n",
            "933256  Jeroen de Hooge, Jeroen de Hooge   \n",
            "\n",
            "                                                    title  \\\n",
            "933252      TMT Investments (LON:TMT) Stock Price Up 0.8%   \n",
            "933253  Avadel Pharmaceuticals (NASDAQ:AVDL) Stock Pri...   \n",
            "933254  Utter chaos at OpenAI puts GPT in jeopardy – w...   \n",
            "933255                    Marketmind: Risk rally rages on   \n",
            "933256  Google Trends: PVV grootste partij in acht pro...   \n",
            "\n",
            "                                              description  \\\n",
            "933252  TMT Investments PLC (LON:TMT – Get Free Report...   \n",
            "933253  Avadel Pharmaceuticals plc (NASDAQ:AVDL – Get ...   \n",
            "933254  One of the world's most important companies se...   \n",
            "933255  A look at the day ahead in European and global...   \n",
            "933256  Een dag voor de verkiezingen stijgen GroenLink...   \n",
            "\n",
            "                                                      url  \\\n",
            "933252  https://www.etfdailynews.com/2023/11/21/tmt-in...   \n",
            "933253  https://www.etfdailynews.com/2023/11/21/avadel...   \n",
            "933254  https://newatlas.com/technology/openai-altman-...   \n",
            "933255  https://www.channelnewsasia.com/business/marke...   \n",
            "933256  https://www.dutchcowboys.nl/search/google-tren...   \n",
            "\n",
            "                                             url_to_image  \\\n",
            "933252  https://www.americanbankingnews.com/wp-content...   \n",
            "933253  https://www.americanbankingnews.com/wp-content...   \n",
            "933254  https://assets.newatlas.com/dims4/default/898e...   \n",
            "933255  https://onecms-res.cloudinary.com/image/upload...   \n",
            "933256  https://www.dutchcowboys.nl/uploads/posts/list...   \n",
            "\n",
            "                      published_at  \\\n",
            "933252  2023-11-21 05:44:47.000000   \n",
            "933253  2023-11-21 16:30:51.000000   \n",
            "933254  2023-11-21 06:19:52.000000   \n",
            "933255  2023-11-21 05:37:34.000000   \n",
            "933256  2023-11-21 12:00:00.000000   \n",
            "\n",
            "                                                  content category  \n",
            "933252  TMT Investments PLC (LON:TMT – Get Free Report...    Stock  \n",
            "933253  Avadel Pharmaceuticals plc (NASDAQ:AVDL – Get ...    Stock  \n",
            "933254  One of the world's most important companies se...    Stock  \n",
            "933255  A look at the day ahead in European and global...    Stock  \n",
            "933256  Een dag voor de verkiezingen stijgen GroenLink...    Stock  \n"
          ]
        }
      ]
    },
    {
      "cell_type": "code",
      "source": [
        "print(data.shape)"
      ],
      "metadata": {
        "colab": {
          "base_uri": "https://localhost:8080/"
        },
        "id": "CBnz7MREaLUe",
        "outputId": "09ec0b24-cc88-4529-935a-34be5aa5e33e"
      },
      "execution_count": 10,
      "outputs": [
        {
          "output_type": "stream",
          "name": "stdout",
          "text": [
            "(933257, 11)\n"
          ]
        }
      ]
    },
    {
      "cell_type": "code",
      "source": [
        "#all columns are not needed for text summarization so those are dropped\n",
        "data = data.drop(columns=[ 'article_id','source_id', 'source_name', 'author', 'url', 'url_to_image', 'published_at'])"
      ],
      "metadata": {
        "id": "KrPZx5BiCefU"
      },
      "execution_count": 5,
      "outputs": []
    },
    {
      "cell_type": "code",
      "source": [
        "# Count the number of articles in the 'stock' category\n",
        "stock_articles_count = data['category'].value_counts()['Stock']\n",
        "print(f'Number of articles in the \"stock\" category: {stock_articles_count}')"
      ],
      "metadata": {
        "colab": {
          "base_uri": "https://localhost:8080/"
        },
        "id": "IsIYLueqCd65",
        "outputId": "688f6af3-4d97-4d75-b885-dff2220a37d5"
      },
      "execution_count": 6,
      "outputs": [
        {
          "output_type": "stream",
          "name": "stdout",
          "text": [
            "Number of articles in the \"stock\" category: 10894\n"
          ]
        }
      ]
    },
    {
      "cell_type": "code",
      "source": [
        "# Keep only the rows where the category is 'Stock'\n",
        "data = data[data['category'] == 'Stock']\n",
        "\n",
        "'''# Display the first few rows of the updated DataFrame to verify\n",
        "print(data.head())'''"
      ],
      "metadata": {
        "colab": {
          "base_uri": "https://localhost:8080/",
          "height": 36
        },
        "id": "s5dq8ITXaWJG",
        "outputId": "43b58276-808d-4d0c-cfab-dccf85b79ca7"
      },
      "execution_count": 7,
      "outputs": [
        {
          "output_type": "execute_result",
          "data": {
            "text/plain": [
              "'# Display the first few rows of the updated DataFrame to verify\\nprint(data.head())'"
            ],
            "application/vnd.google.colaboratory.intrinsic+json": {
              "type": "string"
            }
          },
          "metadata": {},
          "execution_count": 7
        }
      ]
    },
    {
      "cell_type": "code",
      "source": [
        "# unique values in the 'category' column to recheck\n",
        "unique_categories = data['category'].unique()\n",
        "print(unique_categories)"
      ],
      "metadata": {
        "colab": {
          "base_uri": "https://localhost:8080/"
        },
        "id": "ASIpzHzEaWMn",
        "outputId": "5d89322e-1e64-4972-ae0a-ab5b1087928f"
      },
      "execution_count": 8,
      "outputs": [
        {
          "output_type": "stream",
          "name": "stdout",
          "text": [
            "['Stock']\n"
          ]
        }
      ]
    },
    {
      "cell_type": "code",
      "source": [
        "data.shape"
      ],
      "metadata": {
        "colab": {
          "base_uri": "https://localhost:8080/"
        },
        "id": "X-Yg4-F_aWRC",
        "outputId": "8c631b08-1fa8-4116-c0d0-c39b2f18f81b"
      },
      "execution_count": 15,
      "outputs": [
        {
          "output_type": "execute_result",
          "data": {
            "text/plain": [
              "(10894, 4)"
            ]
          },
          "metadata": {},
          "execution_count": 15
        }
      ]
    },
    {
      "cell_type": "code",
      "source": [
        "print(data.iloc[0]['title'])\n",
        "print(data.iloc[4]['title'])"
      ],
      "metadata": {
        "colab": {
          "base_uri": "https://localhost:8080/"
        },
        "id": "hXdq6f2mcFSE",
        "outputId": "fdd0f378-31cb-46ab-b063-77783ee8dbc3"
      },
      "execution_count": 21,
      "outputs": [
        {
          "output_type": "stream",
          "name": "stdout",
          "text": [
            "A Twist For Adam Neumann, Sam Altman, And The Fate Of Female Founders\n",
            "Tod von John F. Kennedy: Das sind die wildesten Verschwörungstheorien\n"
          ]
        }
      ]
    },
    {
      "cell_type": "code",
      "source": [
        "# print content of max length  in data and print its corresponding title\n",
        "\n",
        "max_length = max(data['content'].str.len())\n",
        "max_content_row = data[data['content'].str.len() == max_length]\n",
        "max_content_title = max_content_row['title'].values[0]\n",
        "\n",
        "print(\"Content with maximum length:\")\n",
        "print(max_content_row['content'].values[0])\n",
        "print(\"\\nTitle of the article with maximum length content:\")\n",
        "print(max_content_title)"
      ],
      "metadata": {
        "colab": {
          "base_uri": "https://localhost:8080/"
        },
        "id": "glm1XfgwcLrV",
        "outputId": "e80407b0-07b8-4a90-ce77-5e7b692352e6"
      },
      "execution_count": 18,
      "outputs": [
        {
          "output_type": "stream",
          "name": "stdout",
          "text": [
            "Content with maximum length:\n",
            "<li></li>\r\n",
            "November 03, 2023 16:10Market updates: Rupee ends lower on persistent dollar demand from importers\r\n",
            "The Indian rupee \r\n",
            "bucked the trend among its Asian peers and ended slightly lower on Fr… [+105272 chars]\n",
            "\n",
            "Title of the article with maximum length content:\n",
            "Share Market Highlights 03 November 2023: Sensex gains 283 pts, Nifty closes above 19,200 on positive global trends\n"
          ]
        }
      ]
    },
    {
      "cell_type": "code",
      "source": [],
      "metadata": {
        "id": "vkZk3MCpcLye"
      },
      "execution_count": null,
      "outputs": []
    },
    {
      "cell_type": "markdown",
      "source": [
        "#2. Data Preprocessing:\n",
        "   - Clean the data by handling missing values, duplicates, and any inconsistencies.\n",
        "   - Preprocess the text data by removing stopwords, punctuation, and converting text to lowercase.\n"
      ],
      "metadata": {
        "id": "m-ZMf3XfbVVs"
      }
    },
    {
      "cell_type": "code",
      "source": [
        "#all dependencies\n",
        "!pip install nltk\n",
        "import nltk\n",
        "nltk.download('stopwords')"
      ],
      "metadata": {
        "colab": {
          "base_uri": "https://localhost:8080/"
        },
        "id": "dLCG7CviaWUc",
        "outputId": "0c076014-1e6b-40f9-afe0-7b069892f3ec"
      },
      "execution_count": 9,
      "outputs": [
        {
          "output_type": "stream",
          "name": "stdout",
          "text": [
            "Requirement already satisfied: nltk in /usr/local/lib/python3.10/dist-packages (3.8.1)\n",
            "Requirement already satisfied: click in /usr/local/lib/python3.10/dist-packages (from nltk) (8.1.7)\n",
            "Requirement already satisfied: joblib in /usr/local/lib/python3.10/dist-packages (from nltk) (1.3.2)\n",
            "Requirement already satisfied: regex>=2021.8.3 in /usr/local/lib/python3.10/dist-packages (from nltk) (2023.12.25)\n",
            "Requirement already satisfied: tqdm in /usr/local/lib/python3.10/dist-packages (from nltk) (4.66.2)\n"
          ]
        },
        {
          "output_type": "stream",
          "name": "stderr",
          "text": [
            "[nltk_data] Downloading package stopwords to /root/nltk_data...\n",
            "[nltk_data]   Unzipping corpora/stopwords.zip.\n"
          ]
        },
        {
          "output_type": "execute_result",
          "data": {
            "text/plain": [
              "True"
            ]
          },
          "metadata": {},
          "execution_count": 9
        }
      ]
    },
    {
      "cell_type": "code",
      "source": [
        "import pandas as pd\n",
        "import re\n",
        "from nltk.corpus import stopwords\n",
        "\n",
        "# 1. Handle Missing Values\n",
        "# Drop rows with any missing values\n",
        "data.dropna(inplace=True)\n",
        "\n",
        "# 2. Remove Duplicates\n",
        "data.drop_duplicates(inplace=True)\n",
        "\n",
        "# 3. Text Preprocessing\n",
        "def clean_text(text):\n",
        "    # Convert text to lowercase\n",
        "    text = text.lower()\n",
        "    # Remove punctuation\n",
        "    text = re.sub(r'[^\\w\\s]', '', text)\n",
        "    # Remove stopwords\n",
        "    stop_words = set(stopwords.words('english'))\n",
        "    text = ' '.join(word for word in text.split() if word not in stop_words)\n",
        "    return text\n",
        "\n",
        "# Applying the cleaning function to the 'title', 'description', and 'content' columns\n",
        "data['title'] = data['title'].apply(clean_text)\n",
        "data['description'] = data['description'].apply(clean_text)\n",
        "data['content'] = data['content'].apply(clean_text)\n",
        "\n",
        "# Display the first few rows of the preprocessed DataFrame\n",
        "#print(data.head())"
      ],
      "metadata": {
        "id": "GrfwcmmSaWYO"
      },
      "execution_count": 10,
      "outputs": []
    },
    {
      "cell_type": "markdown",
      "source": [
        "#3. Summarization:\n",
        "   - Implement a summarization technique to generate concise summaries for each financial news article.\n",
        "   - Evaluate the quality of the generated summaries based on relevancy and coherence.\n"
      ],
      "metadata": {
        "id": "gf198AEoecnc"
      }
    },
    {
      "cell_type": "code",
      "source": [
        "#dependencies\n",
        "!pip install -U transformers\n",
        "!pip install -U accelerate\n",
        "!pip install -U datasets\n",
        "!pip install -U bertviz\n",
        "!pip install -U umap-learn\n",
        "!pip install -U sentencepiece\n",
        "!pip install -U urllib3\n",
        "!pip install py7zr"
      ],
      "metadata": {
        "id": "bAwZOY_UaWa5"
      },
      "execution_count": null,
      "outputs": []
    },
    {
      "cell_type": "code",
      "source": [
        "! pip install datasets evaluate transformers rouge-score nltk\n",
        "metric = load(\"rouge\")\n",
        "metric"
      ],
      "metadata": {
        "id": "9MyFLINmfETT"
      },
      "execution_count": null,
      "outputs": []
    },
    {
      "cell_type": "code",
      "source": [
        "! pip show evaluate"
      ],
      "metadata": {
        "id": "P8yaixPyezsk"
      },
      "execution_count": null,
      "outputs": []
    },
    {
      "cell_type": "code",
      "source": [
        "from evaluate import load"
      ],
      "metadata": {
        "id": "gwJq5wUTez15"
      },
      "execution_count": 14,
      "outputs": []
    },
    {
      "cell_type": "code",
      "source": [
        "from transformers import pipeline\n",
        "summaries = {}"
      ],
      "metadata": {
        "id": "9GsYT35kaWc_"
      },
      "execution_count": 16,
      "outputs": []
    },
    {
      "cell_type": "code",
      "source": [
        "def preprocess_and_combine_text(article):\n",
        "  # Preprocess the article text\n",
        "  article_text = clean_text(article)\n",
        "\n",
        "  # Get the description and content of the article\n",
        "  description = data[data['title'] == article]['description'].values[0]\n",
        "  content = data[data['title'] == article]['content'].values[0]\n",
        "\n",
        "  # Combine the preprocessed article text, description, and content\n",
        "  text = description + \"  \" + content\n",
        "  return text"
      ],
      "metadata": {
        "id": "mDUBZMFOaWgc"
      },
      "execution_count": 17,
      "outputs": []
    },
    {
      "cell_type": "code",
      "source": [
        "from rouge_score import rouge_scorer\n",
        "def summarize(title):\n",
        "  title=clean_text(title)\n",
        "  text=preprocess_and_combine_text(title)\n",
        "  description = data[data['title'] ==title]['description'].values[0]\n",
        "  # Trying T5 Transformers\n",
        "  pipe = pipeline('summarization', model='t5-base', truncation=True,min_length=7, max_length=25)\n",
        "  pipe_out = pipe(text)\n",
        "  summaries['t5-base-223M'] = pipe_out[0]['summary_text']\n",
        "  # trying BART model\n",
        "  pipe = pipeline('summarization', model='facebook/bart-large-cnn', truncation=True,min_length=7, max_length=25)\n",
        "  pipe_out = pipe(text)\n",
        "  summaries['bart-large-cnn-400M'] = pipe_out[0]['summary_text']\n",
        "  # Initialize ROUGE scorer\n",
        "  scorer = rouge_scorer.RougeScorer(['rouge1', 'rouge2', 'rougeL'], use_stemmer=True)\n",
        "  # Compute ROUGE scores for each model\n",
        "  rouge_scores = {}\n",
        "  for model, summary in summaries.items():\n",
        "      scores = scorer.score(summary,description)\n",
        "      rouge_scores[model] = scores\n",
        "  for model in summaries:\n",
        "    print(model.upper())\n",
        "    print(summaries[model])\n",
        "    print(\"ROUGE Scores:\", scores)\n",
        "    print(\"\")"
      ],
      "metadata": {
        "id": "A8ZTjm0oe5hm"
      },
      "execution_count": 18,
      "outputs": []
    },
    {
      "cell_type": "code",
      "source": [
        "#example1\n",
        "summarize(\"A Twist For Adam Neumann, Sam Altman, And The Fate Of Female Founders\")"
      ],
      "metadata": {
        "colab": {
          "base_uri": "https://localhost:8080/"
        },
        "id": "wTx0CrMegxQO",
        "outputId": "d401db59-3cd4-40ce-c131-54b08d6ff2ab"
      },
      "execution_count": 20,
      "outputs": [
        {
          "output_type": "stream",
          "name": "stderr",
          "text": [
            "Asking to truncate to max_length but no maximum length is provided and the model has no predefined maximum length. Default to no truncation.\n"
          ]
        },
        {
          "output_type": "stream",
          "name": "stdout",
          "text": [
            "T5-BASE-223M\n",
            "adam neumann ousted wework ceo propelled public spotlight office community empire built filed bankruptcy los angele\n",
            "ROUGE Scores: {'rouge1': Score(precision=1.0, recall=1.0, fmeasure=1.0), 'rouge2': Score(precision=1.0, recall=1.0, fmeasure=1.0), 'rougeL': Score(precision=1.0, recall=1.0, fmeasure=1.0)}\n",
            "\n",
            "BART-LARGE-CNN-400M\n",
            " adam neumann ousted wework ceo propelled public spotlight office community empire built filed bankruptcy.\n",
            "ROUGE Scores: {'rouge1': Score(precision=1.0, recall=1.0, fmeasure=1.0), 'rouge2': Score(precision=1.0, recall=1.0, fmeasure=1.0), 'rougeL': Score(precision=1.0, recall=1.0, fmeasure=1.0)}\n",
            "\n"
          ]
        }
      ]
    },
    {
      "cell_type": "code",
      "source": [
        "#example2\n",
        "summarize(\"Tod von John F. Kennedy: Das sind die wildesten Verschwörungstheorien\")"
      ],
      "metadata": {
        "colab": {
          "base_uri": "https://localhost:8080/"
        },
        "id": "pHwTWprskMzS",
        "outputId": "7dde87b3-da03-4c0c-f320-64abb2ab2052"
      },
      "execution_count": 21,
      "outputs": [
        {
          "output_type": "stream",
          "name": "stderr",
          "text": [
            "Asking to truncate to max_length but no maximum length is provided and the model has no predefined maximum length. Default to no truncation.\n"
          ]
        },
        {
          "output_type": "stream",
          "name": "stdout",
          "text": [
            "T5-BASE-223M\n",
            "der mord john f kennedy rief zahlreiche verschwörungstheorien\n",
            "ROUGE Scores: {'rouge1': Score(precision=0.5, recall=0.8888888888888888, fmeasure=0.64), 'rouge2': Score(precision=0.4666666666666667, recall=0.875, fmeasure=0.608695652173913), 'rougeL': Score(precision=0.5, recall=0.8888888888888888, fmeasure=0.64)}\n",
            "\n",
            "BART-LARGE-CNN-400M\n",
            " der mord john f kennedy rief zahlreiche verschwörungstheor\n",
            "ROUGE Scores: {'rouge1': Score(precision=0.5, recall=0.8888888888888888, fmeasure=0.64), 'rouge2': Score(precision=0.4666666666666667, recall=0.875, fmeasure=0.608695652173913), 'rougeL': Score(precision=0.5, recall=0.8888888888888888, fmeasure=0.64)}\n",
            "\n"
          ]
        }
      ]
    },
    {
      "cell_type": "code",
      "source": [
        "#example3\n",
        "summarize(\"Share Market Highlights 03 November 2023: Sensex gains 283 pts, Nifty closes above 19,200 on positive global trends\")"
      ],
      "metadata": {
        "colab": {
          "base_uri": "https://localhost:8080/"
        },
        "id": "Bw95tLGEgxTr",
        "outputId": "a57be382-4c0c-42d8-9f78-b5bd19a40faa"
      },
      "execution_count": 22,
      "outputs": [
        {
          "output_type": "stream",
          "name": "stderr",
          "text": [
            "Asking to truncate to max_length but no maximum length is provided and the model has no predefined maximum length. Default to no truncation.\n"
          ]
        },
        {
          "output_type": "stream",
          "name": "stdout",
          "text": [
            "T5-BASE-223M\n",
            "sensex nse nifty lili november 03 2023 1610market updates rupe\n",
            "ROUGE Scores: {'rouge1': Score(precision=0.24242424242424243, recall=0.47058823529411764, fmeasure=0.32), 'rouge2': Score(precision=0.21875, recall=0.4375, fmeasure=0.2916666666666667), 'rougeL': Score(precision=0.24242424242424243, recall=0.47058823529411764, fmeasure=0.32)}\n",
            "\n",
            "BART-LARGE-CNN-400M\n",
            " rupee bucked trend among asian peers ended slightly lower. Indian equity markets closed green second day row.\n",
            "ROUGE Scores: {'rouge1': Score(precision=0.24242424242424243, recall=0.47058823529411764, fmeasure=0.32), 'rouge2': Score(precision=0.21875, recall=0.4375, fmeasure=0.2916666666666667), 'rougeL': Score(precision=0.24242424242424243, recall=0.47058823529411764, fmeasure=0.32)}\n",
            "\n"
          ]
        }
      ]
    },
    {
      "cell_type": "markdown",
      "source": [
        "#4. Similarity Search:\n",
        "   - Choose a sample financial news article from the dataset.\n",
        "   - Implement a similarity search algorithm to find articles similar to the chosen article.\n",
        "   - Determine the similarity threshold and retrieve articles that meet or exceed this threshold.\n",
        "   - Evaluate the effectiveness of the similarity search algorithm by comparing the retrieved articles with the chosen article.\n"
      ],
      "metadata": {
        "id": "2pCzyIaOlTsY"
      }
    },
    {
      "cell_type": "code",
      "source": [
        "\n",
        "# Assuming 'data' is your DataFrame and it has a column named 'title'\n",
        "titles= data['title'].sample(n=10000)"
      ],
      "metadata": {
        "id": "cCQH0VYvuTrX"
      },
      "execution_count": 39,
      "outputs": []
    },
    {
      "cell_type": "code",
      "source": [
        "# prompt: print the full length title name of 2 rows\n",
        "for title in titles[:2]:\n",
        "  print(data[data['title'] == title]['title'].values[0])\n"
      ],
      "metadata": {
        "colab": {
          "base_uri": "https://localhost:8080/"
        },
        "id": "dVJvW_QwvuDt",
        "outputId": "feb3cca5-67ac-4f7b-ecb6-35db8fa07828"
      },
      "execution_count": 40,
      "outputs": [
        {
          "output_type": "stream",
          "name": "stdout",
          "text": [
            "morguard real estate inv tsemrtun director bart scott munn acquires 2500 shares\n",
            "openai drama continues negotiations sam altmans return u\n"
          ]
        }
      ]
    },
    {
      "cell_type": "code",
      "source": [
        "# Convert titles Series to a list\n",
        "titles = titles.tolist()"
      ],
      "metadata": {
        "id": "eR3Ley8e11K3"
      },
      "execution_count": 41,
      "outputs": []
    },
    {
      "cell_type": "code",
      "source": [
        "from sklearn.feature_extraction.text import TfidfVectorizer\n",
        "from sklearn.metrics.pairwise import cosine_similarity\n",
        "\n",
        "def find_similar_articles(article_title, titles, threshold=0.2):\n",
        "    # Initialize the vectorizer\n",
        "    vectorizer = TfidfVectorizer()\n",
        "    # Transform titles into TF-IDF matrix\n",
        "    tfidf_matrix = vectorizer.fit_transform(titles)\n",
        "    # index of the article with the given title\n",
        "    try:\n",
        "        article_index = titles.index(article_title)\n",
        "    except ValueError:\n",
        "        return \"Article title not found in the provided titles list.\"\n",
        "\n",
        "    # cosine similarity\n",
        "    cosine_sim = cosine_similarity(tfidf_matrix[article_index:article_index+1], tfidf_matrix).flatten()\n",
        "    # indices of articles that meet or exceed the threshold\n",
        "    similar_indices = [i for i, sim in enumerate(cosine_sim) if sim >= threshold and i != article_index]\n",
        "    # Retrieval of similar articles\n",
        "    similar_articles = [titles[i] for i in similar_indices]\n",
        "    return similar_articles\n",
        "\n",
        "chosen_article_title = 'openai drama continues negotiations sam altmans return u'\n",
        "similar_articles = find_similar_articles(chosen_article_title, titles, threshold=0.2)\n",
        "\n",
        "# Output the similar articles\n",
        "print(f\"Articles similar to '{chosen_article_title}':\")\n",
        "for article in similar_articles:\n",
        "    print(article)\n"
      ],
      "metadata": {
        "colab": {
          "base_uri": "https://localhost:8080/"
        },
        "id": "s65M86bclbln",
        "outputId": "df3bb583-969f-4a87-817f-41579f4b8ea5"
      },
      "execution_count": 45,
      "outputs": [
        {
          "output_type": "stream",
          "name": "stdout",
          "text": [
            "Articles similar to 'openai drama continues negotiations sam altmans return u':\n",
            "sam altmans new job could boost microsoft stock\n",
            "know far openai fired sam altman\n",
            "openai says sam altman return ceo new board members\n",
            "reports sam altman wont return openai ceo emmett shear said tapped\n",
            "microsoft keen get sam altman inside back openai helm\n"
          ]
        }
      ]
    },
    {
      "cell_type": "code",
      "source": [
        "\n",
        "# Converting both lists to sets for easier comparison\n",
        "similar_set = set(similar_articles)\n",
        "relevant_set = set(titles)\n",
        "\n",
        "# Calculate precision and recall\n",
        "precision = len(similar_set & relevant_set) / len(similar_set) if similar_set else 0\n",
        "recall = len(similar_set & relevant_set) / len(relevant_set) if relevant_set else 0\n",
        "\n",
        "# Calculate F1 score\n",
        "f1_score = 2 * (precision * recall) / (precision + recall) if (precision + recall) else 0\n",
        "\n",
        "print(f\"Precision: {precision:.4f}\")\n",
        "print(f\"Recall: {recall:.4f}\")\n",
        "print(f\"F1 Score: {f1_score:.4f}\")\n",
        "\n"
      ],
      "metadata": {
        "colab": {
          "base_uri": "https://localhost:8080/"
        },
        "id": "hTs6jdylvSuQ",
        "outputId": "ea5c621c-e9ff-4ee8-b32e-c4292dc95f1e"
      },
      "execution_count": 46,
      "outputs": [
        {
          "output_type": "stream",
          "name": "stdout",
          "text": [
            "Precision: 1.0000\n",
            "Recall: 0.0005\n",
            "F1 Score: 0.0010\n"
          ]
        }
      ]
    },
    {
      "cell_type": "markdown",
      "source": [
        "#5. Analysis and Reporting:\n",
        "   Analyze the summarization results and identify any patterns or trends observed in the dataset.\n"
      ],
      "metadata": {
        "id": "oH4EERRw3XMM"
      }
    },
    {
      "cell_type": "markdown",
      "source": [
        "## Methodology\n",
        "Summarization models T5-base and BART-large-CNN models were applied to the dataset of financial news articles, and ROUGE scores were calculated to evaluate the quality. A similarity search was conducted using TF-IDF and cosine similarity with a threshold.\n",
        "## Dataset Patterns\n",
        "- Less information in content column, description column.\n",
        "- very less similar or related articles present in dataset\n",
        "- Threshold Impact : lowering the threshold to 0.2 still resulted few results\n",
        "\n",
        "\n",
        "\n",
        "\n"
      ],
      "metadata": {
        "id": "m7uGsDeU8SSG"
      }
    }
  ]
}